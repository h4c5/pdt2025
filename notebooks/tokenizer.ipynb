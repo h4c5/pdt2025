{
 "cells": [
  {
   "cell_type": "markdown",
   "metadata": {},
   "source": [
    "# Atelier tokenizer\n",
    "\n",
    "Dans cet atelier nous alons constuire un tokenizer utilisant l'algorithme Byte Pair Encoding (BPE) tel que ceux utilisés\n",
    "dans ChatGPT.\n"
   ]
  },
  {
   "cell_type": "markdown",
   "metadata": {},
   "source": [
    "## Convertir une chaine de caractères en une séquence d'entiers\n",
    "\n",
    "D'après la [documentation python](https://docs.python.org/fr/3/library/stdtypes.html#text-sequence-type-str) :\n",
    "\n",
    "> Les chaînes sont des séquences immuables de points de code Unicode."
   ]
  },
  {
   "cell_type": "markdown",
   "metadata": {},
   "source": [
    "Chaque caractère a un numéro, une catégorie, un nom :"
   ]
  },
  {
   "cell_type": "code",
   "execution_count": 17,
   "metadata": {},
   "outputs": [
    {
     "name": "stdout",
     "output_type": "stream",
     "text": [
      "B 66 Lu LATIN CAPITAL LETTER B\n",
      "o 111 Ll LATIN SMALL LETTER O\n",
      "n 110 Ll LATIN SMALL LETTER N\n",
      "j 106 Ll LATIN SMALL LETTER J\n",
      "o 111 Ll LATIN SMALL LETTER O\n",
      "u 117 Ll LATIN SMALL LETTER U\n",
      "r 114 Ll LATIN SMALL LETTER R\n",
      "  32 Zs SPACE\n",
      "👋 128075 So WAVING HAND SIGN\n"
     ]
    }
   ],
   "source": [
    "import unicodedata\n",
    "\n",
    "text = \"Bonjour 👋\"\n",
    "\n",
    "for char in text:\n",
    "    print(char, ord(char), unicodedata.category(char), unicodedata.name(char))"
   ]
  },
  {
   "cell_type": "markdown",
   "metadata": {},
   "source": [
    "Les chaines de caractères sont ensuite encodées pour permettre la sauvegarde, la lecture, etc.\n",
    "\n",
    "Il existe plusieurs types d'encodage. Le plus utilisé est `UTF-8`. Cet encodage représente chaque point de code \n",
    "(caractère) par une suite de 1 à 4 bytes en fonction du numéro du point de code : \n",
    "\n",
    "\n",
    "| Premier point de code | Dernier code point | Byte 1       | Byte 2   | Byte 3   | Byte 4   |\n",
    "|-----------------------|--------------------|--------------|----------|----------|----------|\n",
    "| U+0000                | U+007F             | **0**yyyzzzz |          |          |          |\n",
    "| U+0080                | U+07FF             | **110**xxxyy | 10yyzzzz |          |          |\n",
    "| U+0800                | U+FFFF             | **1110**wwww | 10xxxxyy | 10yyzzzz |          |\n",
    "| U+010000              | U+10FFFF           | **11110**uvv | 10vvwwww | 10xxxxyy | 10yyzzzz |\n",
    "\n",
    "<br/>\n",
    "\n",
    "> **Rappel :** Un _byte_ en anglais correspond à un _octet_ en français soit 8 _bits_.\n",
    "> \n",
    "> Un octet peut donc prendre 2^8 = 256 valeurs"
   ]
  },
  {
   "cell_type": "code",
   "execution_count": 22,
   "metadata": {},
   "outputs": [
    {
     "name": "stdout",
     "output_type": "stream",
     "text": [
      "B | 66 | code hexadécimal : 42\n",
      "o | 111 | code hexadécimal : 6f\n",
      "n | 110 | code hexadécimal : 6e\n",
      "j | 106 | code hexadécimal : 6a\n",
      "o | 111 | code hexadécimal : 6f\n",
      "u | 117 | code hexadécimal : 75\n",
      "r | 114 | code hexadécimal : 72\n",
      "  | 32 | code hexadécimal : 20\n",
      "👋 | 240 | code hexadécimal : f0\n",
      "👋 | 159 | code hexadécimal : 9f\n",
      "👋 | 145 | code hexadécimal : 91\n",
      "👋 | 139 | code hexadécimal : 8b\n"
     ]
    }
   ],
   "source": [
    "text = \"Bonjour 👋\"\n",
    "\n",
    "for char in text:\n",
    "    for byte in char.encode(\"utf-8\"):\n",
    "        print(char, \"|\", byte, f\"| code hexadécimal : {byte:02x}\")"
   ]
  },
  {
   "cell_type": "markdown",
   "metadata": {},
   "source": [
    "On peut directement obtenir la liste des bytes :"
   ]
  },
  {
   "cell_type": "code",
   "execution_count": 29,
   "metadata": {},
   "outputs": [
    {
     "name": "stdout",
     "output_type": "stream",
     "text": [
      "[66, 111, 110, 106, 111, 117, 114, 32, 240, 159, 145, 139]\n"
     ]
    }
   ],
   "source": [
    "text = \"Bonjour 👋\"\n",
    "text_ids = list(text.encode())\n",
    "\n",
    "print(text_ids)"
   ]
  },
  {
   "cell_type": "markdown",
   "metadata": {},
   "source": [
    "## Implémentation de la tokenization Byte Pair Encoding (BPE)\n",
    "\n",
    "[L'algorithme BPE ](https://en.wikipedia.org/wiki/Byte_pair_encoding) fonctionne en fusionnant sucessivement la paire\n",
    "d'octets la plus fréquente.\n",
    "\n",
    "Dans un premier temps, on va donc implémenter une fonction qui compte les nombres d'apparition des paires d'octet"
   ]
  },
  {
   "cell_type": "code",
   "execution_count": 33,
   "metadata": {},
   "outputs": [],
   "source": [
    "text = \"\"\"Une demi-heure plus tard, Harry, qui n'en croyait pas sa chance, était assis à l'arrière de la voiture des\n",
    "Dursley, en compagnie de Piers et Dudley. Pour la première fois de sa vie, il allait visiter le zoo.\"\"\"\n",
    "\n",
    "text_ids = list(text.encode())"
   ]
  },
  {
   "cell_type": "code",
   "execution_count": 35,
   "metadata": {},
   "outputs": [
    {
     "data": {
      "text/plain": [
       "[((101, 32), 10), ((32, 100), 5), ((100, 101), 5)]"
      ]
     },
     "execution_count": 35,
     "metadata": {},
     "output_type": "execute_result"
    }
   ],
   "source": [
    "from collections import Counter\n",
    "\n",
    "\n",
    "def count_pairs(ids: list[int]):\n",
    "    return Counter(((o1, o2) for o1, o2 in zip(ids, ids[1:])))\n",
    "\n",
    "\n",
    "stats = count_pairs(text_ids)\n",
    "stats.most_common(3)"
   ]
  },
  {
   "cell_type": "code",
   "execution_count": 42,
   "metadata": {},
   "outputs": [
    {
     "data": {
      "text/plain": [
       "((101, 32), 10, 'e ')"
      ]
     },
     "execution_count": 42,
     "metadata": {},
     "output_type": "execute_result"
    }
   ],
   "source": [
    "(((o1, o2), nb),) = stats.most_common(1)\n",
    "\n",
    "(o1, o2), nb, bytes([o1, o2]).decode(\"utf-8\")"
   ]
  },
  {
   "cell_type": "markdown",
   "metadata": {},
   "source": [
    "Ensuite on va écfire une fonction qui fusionne une paire en remplaçant les octets par une nouvel id."
   ]
  },
  {
   "cell_type": "code",
   "execution_count": 50,
   "metadata": {},
   "outputs": [
    {
     "data": {
      "text/plain": [
       "[1, 4, 1, 4, 3]"
      ]
     },
     "execution_count": 50,
     "metadata": {},
     "output_type": "execute_result"
    }
   ],
   "source": [
    "def merge(ids: list[int], pair: tuple[int, int], new_id: int):\n",
    "    new_ids = []\n",
    "    i = 0\n",
    "    while i < len(ids):\n",
    "        if i < (len(ids) - 1) and (ids[i], ids[i + 1]) == pair:\n",
    "            new_ids.append(new_id)\n",
    "            i += 2\n",
    "        else:\n",
    "            new_ids.append(ids[i])\n",
    "            i += 1\n",
    "    return new_ids\n",
    "\n",
    "\n",
    "merge([1, 2, 3, 1, 2, 3, 3], (2, 3), 4)"
   ]
  },
  {
   "cell_type": "code",
   "execution_count": 51,
   "metadata": {},
   "outputs": [],
   "source": [
    "from tests import test_merge\n",
    "\n",
    "test_merge(merge)"
   ]
  }
 ],
 "metadata": {
  "kernelspec": {
   "display_name": ".venv",
   "language": "python",
   "name": "python3"
  },
  "language_info": {
   "codemirror_mode": {
    "name": "ipython",
    "version": 3
   },
   "file_extension": ".py",
   "mimetype": "text/x-python",
   "name": "python",
   "nbconvert_exporter": "python",
   "pygments_lexer": "ipython3",
   "version": "3.12.7"
  }
 },
 "nbformat": 4,
 "nbformat_minor": 2
}
