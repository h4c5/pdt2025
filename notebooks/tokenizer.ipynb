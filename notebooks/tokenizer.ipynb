{
 "cells": [
  {
   "cell_type": "markdown",
   "metadata": {},
   "source": [
    "# Atelier tokenizer\n",
    "\n",
    "Dans cet atelier nous alons constuire un tokenizer utilisant l'algorithme Byte Pair Encoding (BPE) tel que ceux utilisés\n",
    "dans ChatGPT.\n"
   ]
  },
  {
   "cell_type": "markdown",
   "metadata": {},
   "source": [
    "## Convertir une chaine de caractères en une séquence d'entiers\n",
    "\n",
    "D'après la [documentation python](https://docs.python.org/fr/3/library/stdtypes.html#text-sequence-type-str) :\n",
    "\n",
    "> Les chaînes sont des séquences immuables de points de code Unicode."
   ]
  },
  {
   "cell_type": "markdown",
   "metadata": {},
   "source": [
    "Chaque caractère a un numéro, une catégorie, un nom :"
   ]
  },
  {
   "cell_type": "code",
   "execution_count": 17,
   "metadata": {},
   "outputs": [
    {
     "name": "stdout",
     "output_type": "stream",
     "text": [
      "B 66 Lu LATIN CAPITAL LETTER B\n",
      "o 111 Ll LATIN SMALL LETTER O\n",
      "n 110 Ll LATIN SMALL LETTER N\n",
      "j 106 Ll LATIN SMALL LETTER J\n",
      "o 111 Ll LATIN SMALL LETTER O\n",
      "u 117 Ll LATIN SMALL LETTER U\n",
      "r 114 Ll LATIN SMALL LETTER R\n",
      "  32 Zs SPACE\n",
      "👋 128075 So WAVING HAND SIGN\n"
     ]
    }
   ],
   "source": [
    "import unicodedata\n",
    "\n",
    "text = \"Bonjour 👋\"\n",
    "\n",
    "for char in text:\n",
    "    print(char, ord(char), unicodedata.category(char), unicodedata.name(char))"
   ]
  },
  {
   "cell_type": "markdown",
   "metadata": {},
   "source": [
    "Les chaines de caractères sont ensuite encodées pour permettre la sauvegarde, la lecture, etc.\n",
    "\n",
    "Il existe plusieurs types d'encodage. Le plus utilisé est `UTF-8`. Cet encodage représente chaque point de code \n",
    "(caractère) par une suite de 1 à 4 bytes en fonction du numéro du point de code : \n",
    "\n",
    "\n",
    "| Premier point de code | Dernier code point | Byte 1       | Byte 2   | Byte 3   | Byte 4   |\n",
    "|-----------------------|--------------------|--------------|----------|----------|----------|\n",
    "| U+0000                | U+007F             | **0**yyyzzzz |          |          |          |\n",
    "| U+0080                | U+07FF             | **110**xxxyy | 10yyzzzz |          |          |\n",
    "| U+0800                | U+FFFF             | **1110**wwww | 10xxxxyy | 10yyzzzz |          |\n",
    "| U+010000              | U+10FFFF           | **11110**uvv | 10vvwwww | 10xxxxyy | 10yyzzzz |\n",
    "\n",
    "<br/>\n",
    "\n",
    "> **Rappel :** Un _byte_ en anglais correspond à un _octet_ en français soit 8 _bits_.\n",
    "> \n",
    "> Un octet peut donc prendre 2^8 = 256 valeurs"
   ]
  },
  {
   "cell_type": "code",
   "execution_count": 22,
   "metadata": {},
   "outputs": [
    {
     "name": "stdout",
     "output_type": "stream",
     "text": [
      "B | 66 | code hexadécimal : 42\n",
      "o | 111 | code hexadécimal : 6f\n",
      "n | 110 | code hexadécimal : 6e\n",
      "j | 106 | code hexadécimal : 6a\n",
      "o | 111 | code hexadécimal : 6f\n",
      "u | 117 | code hexadécimal : 75\n",
      "r | 114 | code hexadécimal : 72\n",
      "  | 32 | code hexadécimal : 20\n",
      "👋 | 240 | code hexadécimal : f0\n",
      "👋 | 159 | code hexadécimal : 9f\n",
      "👋 | 145 | code hexadécimal : 91\n",
      "👋 | 139 | code hexadécimal : 8b\n"
     ]
    }
   ],
   "source": [
    "text = \"Bonjour 👋\"\n",
    "\n",
    "for char in text:\n",
    "    for byte in char.encode(\"utf-8\"):\n",
    "        print(char, \"|\", byte, f\"| code hexadécimal : {byte:02x}\")"
   ]
  },
  {
   "cell_type": "markdown",
   "metadata": {},
   "source": [
    "Dans un premier temps on peut transformer une chaine de caractère en "
   ]
  },
  {
   "cell_type": "code",
   "execution_count": null,
   "metadata": {},
   "outputs": [],
   "source": [
    "text = \"Bonjour, Hello, こんにちは, 👋\""
   ]
  }
 ],
 "metadata": {
  "kernelspec": {
   "display_name": ".venv",
   "language": "python",
   "name": "python3"
  },
  "language_info": {
   "codemirror_mode": {
    "name": "ipython",
    "version": 3
   },
   "file_extension": ".py",
   "mimetype": "text/x-python",
   "name": "python",
   "nbconvert_exporter": "python",
   "pygments_lexer": "ipython3",
   "version": "3.12.7"
  }
 },
 "nbformat": 4,
 "nbformat_minor": 2
}
