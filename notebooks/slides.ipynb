{
 "cells": [
  {
   "cell_type": "code",
   "execution_count": 8,
   "metadata": {},
   "outputs": [
    {
     "data": {
      "text/plain": [
       "['Bienvenu', 'au', 'Printemps', 'de', 'la', 'Tech', '2025']"
      ]
     },
     "execution_count": 8,
     "metadata": {},
     "output_type": "execute_result"
    }
   ],
   "source": [
    "text = \"Bienvenu au Printemps de la Tech 2025\"\n",
    "\n",
    "words = text.split(\" \")\n",
    "words"
   ]
  },
  {
   "cell_type": "code",
   "execution_count": 10,
   "metadata": {},
   "outputs": [
    {
     "data": {
      "text/plain": [
       "[0, 1, 2, 3, 4, 5, 6]"
      ]
     },
     "execution_count": 10,
     "metadata": {},
     "output_type": "execute_result"
    }
   ],
   "source": [
    "vocab = {word: i for i, word in enumerate(words)}\n",
    "\n",
    "words_id = [vocab[word] for word in words]\n",
    "words_id"
   ]
  },
  {
   "cell_type": "code",
   "execution_count": 12,
   "metadata": {},
   "outputs": [
    {
     "name": "stdout",
     "output_type": "stream",
     "text": [
      "{'Bienvenu': 0, 'au': 1, 'Printemps': 2, 'de': 3, 'la': 4, 'Tech': 5, '2025': 6}\n"
     ]
    }
   ],
   "source": [
    "print(vocab)"
   ]
  },
  {
   "cell_type": "code",
   "execution_count": 15,
   "metadata": {},
   "outputs": [
    {
     "name": "stdout",
     "output_type": "stream",
     "text": [
      "[66, 105, 101, 110, 118, 101, 110, 117, 32, 97, 117, 32, 80, 114, 105, 110, 116, 101, 109, 112, 115, 32, 100, 101, 32, 108, 97, 32, 84, 101, 99, 104, 32, 50, 48, 50, 53]\n"
     ]
    }
   ],
   "source": [
    "print(text_ids := [ord(c) for c in text])"
   ]
  },
  {
   "cell_type": "code",
   "execution_count": null,
   "metadata": {},
   "outputs": [
    {
     "name": "stdout",
     "output_type": "stream",
     "text": [
      "['Bie', 'ien', 'env', 'nve', 'ven', 'enu', 'nu ', 'u a', ' au', 'au ', 'u P', ' Pr', 'Pri', 'rin', 'int', 'nte', 'tem', 'emp', 'mps', 'ps ', 's d', ' de', 'de ', 'e l', ' la', 'la ', 'a T', ' Te', 'Tec', 'ech', 'ch ', 'h 2', ' 20', '202', '025', '25', '5']\n"
     ]
    }
   ],
   "source": [
    "text = \"Bienvenu au Printemps de la Tech 2025\"\n",
    "\n",
    "\n",
    "N = 3\n",
    "tokens = [text[i:i+N] for i in range(0, len(text))]\n",
    "print(tokens)"
   ]
  }
 ],
 "metadata": {
  "kernelspec": {
   "display_name": ".venv",
   "language": "python",
   "name": "python3"
  },
  "language_info": {
   "codemirror_mode": {
    "name": "ipython",
    "version": 3
   },
   "file_extension": ".py",
   "mimetype": "text/x-python",
   "name": "python",
   "nbconvert_exporter": "python",
   "pygments_lexer": "ipython3",
   "version": "3.12.9"
  }
 },
 "nbformat": 4,
 "nbformat_minor": 2
}
